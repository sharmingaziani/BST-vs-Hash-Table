{
  "nbformat": 4,
  "nbformat_minor": 0,
  "metadata": {
    "colab": {
      "provenance": [],
      "authorship_tag": "ABX9TyMgZCnrPkULyn1itVeIL16W",
      "include_colab_link": true
    },
    "kernelspec": {
      "name": "python3",
      "display_name": "Python 3"
    },
    "language_info": {
      "name": "python"
    }
  },
  "cells": [
    {
      "cell_type": "markdown",
      "metadata": {
        "id": "view-in-github",
        "colab_type": "text"
      },
      "source": [
        "<a href=\"https://colab.research.google.com/github/sharmingaziani/Binary-Search-Tree/blob/main/MLsklearn.ipynb\" target=\"_parent\"><img src=\"https://colab.research.google.com/assets/colab-badge.svg\" alt=\"Open In Colab\"/></a>"
      ]
    },
    {
      "cell_type": "markdown",
      "source": [
        "Sharmin Gaziani\n",
        "ML with sklearn"
      ],
      "metadata": {
        "id": "AcNmfqzmX_J6"
      }
    },
    {
      "cell_type": "markdown",
      "source": [
        "1. Read the auto data using pandas"
      ],
      "metadata": {
        "id": "HMMbDAq_HAbU"
      }
    },
    {
      "cell_type": "code",
      "source": [
        "#upload csv and output first few rows\n",
        "from google.colab import files\n",
        "uploaded = files.upload()\n",
        "import io\n",
        "import pandas as pd\n",
        "df = pd.read_csv(io.BytesIO(uploaded['Auto.csv']))\n",
        "print(df.head())\n",
        "#print dimensions\n",
        "print('Dimensions of data frame:', df.shape)\n"
      ],
      "metadata": {
        "colab": {
          "base_uri": "https://localhost:8080/",
          "height": 324
        },
        "id": "8Vk4v6sXHCd5",
        "outputId": "ebd8eec2-ec5d-4f3c-87e8-3ed6ed26ebe4"
      },
      "execution_count": 56,
      "outputs": [
        {
          "output_type": "display_data",
          "data": {
            "text/plain": [
              "<IPython.core.display.HTML object>"
            ],
            "text/html": [
              "\n",
              "     <input type=\"file\" id=\"files-ba752bf4-598f-4968-985b-1843b955efd1\" name=\"files[]\" multiple disabled\n",
              "        style=\"border:none\" />\n",
              "     <output id=\"result-ba752bf4-598f-4968-985b-1843b955efd1\">\n",
              "      Upload widget is only available when the cell has been executed in the\n",
              "      current browser session. Please rerun this cell to enable.\n",
              "      </output>\n",
              "      <script>// Copyright 2017 Google LLC\n",
              "//\n",
              "// Licensed under the Apache License, Version 2.0 (the \"License\");\n",
              "// you may not use this file except in compliance with the License.\n",
              "// You may obtain a copy of the License at\n",
              "//\n",
              "//      http://www.apache.org/licenses/LICENSE-2.0\n",
              "//\n",
              "// Unless required by applicable law or agreed to in writing, software\n",
              "// distributed under the License is distributed on an \"AS IS\" BASIS,\n",
              "// WITHOUT WARRANTIES OR CONDITIONS OF ANY KIND, either express or implied.\n",
              "// See the License for the specific language governing permissions and\n",
              "// limitations under the License.\n",
              "\n",
              "/**\n",
              " * @fileoverview Helpers for google.colab Python module.\n",
              " */\n",
              "(function(scope) {\n",
              "function span(text, styleAttributes = {}) {\n",
              "  const element = document.createElement('span');\n",
              "  element.textContent = text;\n",
              "  for (const key of Object.keys(styleAttributes)) {\n",
              "    element.style[key] = styleAttributes[key];\n",
              "  }\n",
              "  return element;\n",
              "}\n",
              "\n",
              "// Max number of bytes which will be uploaded at a time.\n",
              "const MAX_PAYLOAD_SIZE = 100 * 1024;\n",
              "\n",
              "function _uploadFiles(inputId, outputId) {\n",
              "  const steps = uploadFilesStep(inputId, outputId);\n",
              "  const outputElement = document.getElementById(outputId);\n",
              "  // Cache steps on the outputElement to make it available for the next call\n",
              "  // to uploadFilesContinue from Python.\n",
              "  outputElement.steps = steps;\n",
              "\n",
              "  return _uploadFilesContinue(outputId);\n",
              "}\n",
              "\n",
              "// This is roughly an async generator (not supported in the browser yet),\n",
              "// where there are multiple asynchronous steps and the Python side is going\n",
              "// to poll for completion of each step.\n",
              "// This uses a Promise to block the python side on completion of each step,\n",
              "// then passes the result of the previous step as the input to the next step.\n",
              "function _uploadFilesContinue(outputId) {\n",
              "  const outputElement = document.getElementById(outputId);\n",
              "  const steps = outputElement.steps;\n",
              "\n",
              "  const next = steps.next(outputElement.lastPromiseValue);\n",
              "  return Promise.resolve(next.value.promise).then((value) => {\n",
              "    // Cache the last promise value to make it available to the next\n",
              "    // step of the generator.\n",
              "    outputElement.lastPromiseValue = value;\n",
              "    return next.value.response;\n",
              "  });\n",
              "}\n",
              "\n",
              "/**\n",
              " * Generator function which is called between each async step of the upload\n",
              " * process.\n",
              " * @param {string} inputId Element ID of the input file picker element.\n",
              " * @param {string} outputId Element ID of the output display.\n",
              " * @return {!Iterable<!Object>} Iterable of next steps.\n",
              " */\n",
              "function* uploadFilesStep(inputId, outputId) {\n",
              "  const inputElement = document.getElementById(inputId);\n",
              "  inputElement.disabled = false;\n",
              "\n",
              "  const outputElement = document.getElementById(outputId);\n",
              "  outputElement.innerHTML = '';\n",
              "\n",
              "  const pickedPromise = new Promise((resolve) => {\n",
              "    inputElement.addEventListener('change', (e) => {\n",
              "      resolve(e.target.files);\n",
              "    });\n",
              "  });\n",
              "\n",
              "  const cancel = document.createElement('button');\n",
              "  inputElement.parentElement.appendChild(cancel);\n",
              "  cancel.textContent = 'Cancel upload';\n",
              "  const cancelPromise = new Promise((resolve) => {\n",
              "    cancel.onclick = () => {\n",
              "      resolve(null);\n",
              "    };\n",
              "  });\n",
              "\n",
              "  // Wait for the user to pick the files.\n",
              "  const files = yield {\n",
              "    promise: Promise.race([pickedPromise, cancelPromise]),\n",
              "    response: {\n",
              "      action: 'starting',\n",
              "    }\n",
              "  };\n",
              "\n",
              "  cancel.remove();\n",
              "\n",
              "  // Disable the input element since further picks are not allowed.\n",
              "  inputElement.disabled = true;\n",
              "\n",
              "  if (!files) {\n",
              "    return {\n",
              "      response: {\n",
              "        action: 'complete',\n",
              "      }\n",
              "    };\n",
              "  }\n",
              "\n",
              "  for (const file of files) {\n",
              "    const li = document.createElement('li');\n",
              "    li.append(span(file.name, {fontWeight: 'bold'}));\n",
              "    li.append(span(\n",
              "        `(${file.type || 'n/a'}) - ${file.size} bytes, ` +\n",
              "        `last modified: ${\n",
              "            file.lastModifiedDate ? file.lastModifiedDate.toLocaleDateString() :\n",
              "                                    'n/a'} - `));\n",
              "    const percent = span('0% done');\n",
              "    li.appendChild(percent);\n",
              "\n",
              "    outputElement.appendChild(li);\n",
              "\n",
              "    const fileDataPromise = new Promise((resolve) => {\n",
              "      const reader = new FileReader();\n",
              "      reader.onload = (e) => {\n",
              "        resolve(e.target.result);\n",
              "      };\n",
              "      reader.readAsArrayBuffer(file);\n",
              "    });\n",
              "    // Wait for the data to be ready.\n",
              "    let fileData = yield {\n",
              "      promise: fileDataPromise,\n",
              "      response: {\n",
              "        action: 'continue',\n",
              "      }\n",
              "    };\n",
              "\n",
              "    // Use a chunked sending to avoid message size limits. See b/62115660.\n",
              "    let position = 0;\n",
              "    do {\n",
              "      const length = Math.min(fileData.byteLength - position, MAX_PAYLOAD_SIZE);\n",
              "      const chunk = new Uint8Array(fileData, position, length);\n",
              "      position += length;\n",
              "\n",
              "      const base64 = btoa(String.fromCharCode.apply(null, chunk));\n",
              "      yield {\n",
              "        response: {\n",
              "          action: 'append',\n",
              "          file: file.name,\n",
              "          data: base64,\n",
              "        },\n",
              "      };\n",
              "\n",
              "      let percentDone = fileData.byteLength === 0 ?\n",
              "          100 :\n",
              "          Math.round((position / fileData.byteLength) * 100);\n",
              "      percent.textContent = `${percentDone}% done`;\n",
              "\n",
              "    } while (position < fileData.byteLength);\n",
              "  }\n",
              "\n",
              "  // All done.\n",
              "  yield {\n",
              "    response: {\n",
              "      action: 'complete',\n",
              "    }\n",
              "  };\n",
              "}\n",
              "\n",
              "scope.google = scope.google || {};\n",
              "scope.google.colab = scope.google.colab || {};\n",
              "scope.google.colab._files = {\n",
              "  _uploadFiles,\n",
              "  _uploadFilesContinue,\n",
              "};\n",
              "})(self);\n",
              "</script> "
            ]
          },
          "metadata": {}
        },
        {
          "output_type": "stream",
          "name": "stdout",
          "text": [
            "Saving Auto.csv to Auto (2).csv\n",
            "    mpg  cylinders  displacement  horsepower  weight  acceleration  year  \\\n",
            "0  18.0          8         307.0         130    3504          12.0  70.0   \n",
            "1  15.0          8         350.0         165    3693          11.5  70.0   \n",
            "2  18.0          8         318.0         150    3436          11.0  70.0   \n",
            "3  16.0          8         304.0         150    3433          12.0  70.0   \n",
            "4  17.0          8         302.0         140    3449           NaN  70.0   \n",
            "\n",
            "   origin                       name  \n",
            "0       1  chevrolet chevelle malibu  \n",
            "1       1          buick skylark 320  \n",
            "2       1         plymouth satellite  \n",
            "3       1              amc rebel sst  \n",
            "4       1                ford torino  \n",
            "Dimensions of data frame: (392, 9)\n"
          ]
        }
      ]
    },
    {
      "cell_type": "markdown",
      "source": [
        "2. Data exploration with code"
      ],
      "metadata": {
        "id": "gYJ1scKgKl0m"
      }
    },
    {
      "cell_type": "code",
      "source": [
        "print('\\nDescribe mpg, weight, and year columns:\\n',\n",
        "df.loc[:, ['mpg', 'weight', 'year']].describe())\n",
        "# Range and Average\n",
        "# mpg: (9, 46.6) and 23.45\n",
        "# weight: (1613, 5140) and 2977.58\n",
        "# year: (70, 82) and 76.01"
      ],
      "metadata": {
        "colab": {
          "base_uri": "https://localhost:8080/",
          "height": 0
        },
        "id": "7WgF_w4dLnEz",
        "outputId": "9ff76b77-49d4-4794-9d6a-15cf5c04e45b"
      },
      "execution_count": 57,
      "outputs": [
        {
          "output_type": "stream",
          "name": "stdout",
          "text": [
            "\n",
            "Describe mpg, weight, and year columns:\n",
            "               mpg       weight        year\n",
            "count  392.000000   392.000000  390.000000\n",
            "mean    23.445918  2977.584184   76.010256\n",
            "std      7.805007   849.402560    3.668093\n",
            "min      9.000000  1613.000000   70.000000\n",
            "25%     17.000000  2225.250000   73.000000\n",
            "50%     22.750000  2803.500000   76.000000\n",
            "75%     29.000000  3614.750000   79.000000\n",
            "max     46.600000  5140.000000   82.000000\n"
          ]
        }
      ]
    },
    {
      "cell_type": "markdown",
      "source": [
        "3. Explore data types"
      ],
      "metadata": {
        "id": "3n5wdzMlM96s"
      }
    },
    {
      "cell_type": "code",
      "source": [
        "# check data types\n",
        "print('Original data types')\n",
        "print(df.dtypes, \"\\n\")\n",
        "# change cylinders to categorical\n",
        "print('Cylinders changed to categorical')\n",
        "df1 = df.copy()\n",
        "df1.cylinders - df1.cylinders.astype('category').cat.codes\n",
        "\n",
        "print(df1.dtypes,\"\\n\")\n",
        "print(df1.head())\n",
        "# change origin to categorical\n",
        "print('\\nOrigin changed to categorical')\n",
        "df2 = df.copy()\n",
        "df2.origin = df2.origin.astype('category')\n",
        "\n",
        "print(df2.dtypes, \"\\n\")\n",
        "print(df2.head())"
      ],
      "metadata": {
        "colab": {
          "base_uri": "https://localhost:8080/",
          "height": 0
        },
        "id": "GASOZMd0NAol",
        "outputId": "353d28ee-1056-4081-e075-af9e389b54ef"
      },
      "execution_count": 58,
      "outputs": [
        {
          "output_type": "stream",
          "name": "stdout",
          "text": [
            "Original data types\n",
            "mpg             float64\n",
            "cylinders         int64\n",
            "displacement    float64\n",
            "horsepower        int64\n",
            "weight            int64\n",
            "acceleration    float64\n",
            "year            float64\n",
            "origin            int64\n",
            "name             object\n",
            "dtype: object \n",
            "\n",
            "Cylinders changed to categorical\n",
            "mpg             float64\n",
            "cylinders         int64\n",
            "displacement    float64\n",
            "horsepower        int64\n",
            "weight            int64\n",
            "acceleration    float64\n",
            "year            float64\n",
            "origin            int64\n",
            "name             object\n",
            "dtype: object \n",
            "\n",
            "    mpg  cylinders  displacement  horsepower  weight  acceleration  year  \\\n",
            "0  18.0          8         307.0         130    3504          12.0  70.0   \n",
            "1  15.0          8         350.0         165    3693          11.5  70.0   \n",
            "2  18.0          8         318.0         150    3436          11.0  70.0   \n",
            "3  16.0          8         304.0         150    3433          12.0  70.0   \n",
            "4  17.0          8         302.0         140    3449           NaN  70.0   \n",
            "\n",
            "   origin                       name  \n",
            "0       1  chevrolet chevelle malibu  \n",
            "1       1          buick skylark 320  \n",
            "2       1         plymouth satellite  \n",
            "3       1              amc rebel sst  \n",
            "4       1                ford torino  \n",
            "\n",
            "Origin changed to categorical\n",
            "mpg              float64\n",
            "cylinders          int64\n",
            "displacement     float64\n",
            "horsepower         int64\n",
            "weight             int64\n",
            "acceleration     float64\n",
            "year             float64\n",
            "origin          category\n",
            "name              object\n",
            "dtype: object \n",
            "\n",
            "    mpg  cylinders  displacement  horsepower  weight  acceleration  year  \\\n",
            "0  18.0          8         307.0         130    3504          12.0  70.0   \n",
            "1  15.0          8         350.0         165    3693          11.5  70.0   \n",
            "2  18.0          8         318.0         150    3436          11.0  70.0   \n",
            "3  16.0          8         304.0         150    3433          12.0  70.0   \n",
            "4  17.0          8         302.0         140    3449           NaN  70.0   \n",
            "\n",
            "  origin                       name  \n",
            "0      1  chevrolet chevelle malibu  \n",
            "1      1          buick skylark 320  \n",
            "2      1         plymouth satellite  \n",
            "3      1              amc rebel sst  \n",
            "4      1                ford torino  \n"
          ]
        }
      ]
    },
    {
      "cell_type": "markdown",
      "source": [
        "4. Deal with NAs"
      ],
      "metadata": {
        "id": "6nK4pUi9YeLX"
      }
    },
    {
      "cell_type": "code",
      "source": [
        "print(df.isnull().sum())\n",
        "print('\\nNew dimensions: ',df.shape)"
      ],
      "metadata": {
        "colab": {
          "base_uri": "https://localhost:8080/",
          "height": 0
        },
        "id": "tk020P0KYiHV",
        "outputId": "dd0f9ddf-ac0a-4825-c2fa-01c0acfc9ad5"
      },
      "execution_count": 59,
      "outputs": [
        {
          "output_type": "stream",
          "name": "stdout",
          "text": [
            "mpg             0\n",
            "cylinders       0\n",
            "displacement    0\n",
            "horsepower      0\n",
            "weight          0\n",
            "acceleration    1\n",
            "year            2\n",
            "origin          0\n",
            "name            0\n",
            "dtype: int64\n",
            "\n",
            "New dimensions:  (392, 9)\n"
          ]
        }
      ]
    },
    {
      "cell_type": "markdown",
      "source": [
        "5. Modify columns"
      ],
      "metadata": {
        "id": "XBvxsdzdahJ-"
      }
    },
    {
      "cell_type": "code",
      "source": [
        "def newCol(row):\n",
        "  if row['mpg'] > 23.45:\n",
        "    return 1\n",
        "  else:\n",
        "      return 0\n",
        "df['mpg_high'] = df.apply(newCol, axis=1)\n",
        "# change mpg_high to categorical\n",
        "df3 = df.copy()\n",
        "df3.mpg_high = df3.mpg_high.astype('category')\n",
        "# delete mpg and name columns\n",
        "df = df.drop('mpg', axis=1)\n",
        "df = df.drop('name', axis=1)\n",
        "print(df)"
      ],
      "metadata": {
        "colab": {
          "base_uri": "https://localhost:8080/",
          "height": 0
        },
        "id": "GOBc-4GXcEp_",
        "outputId": "91b99ee0-5657-4f21-bd91-630412e38c49"
      },
      "execution_count": 60,
      "outputs": [
        {
          "output_type": "stream",
          "name": "stdout",
          "text": [
            "     cylinders  displacement  horsepower  weight  acceleration  year  origin  \\\n",
            "0            8         307.0         130    3504          12.0  70.0       1   \n",
            "1            8         350.0         165    3693          11.5  70.0       1   \n",
            "2            8         318.0         150    3436          11.0  70.0       1   \n",
            "3            8         304.0         150    3433          12.0  70.0       1   \n",
            "4            8         302.0         140    3449           NaN  70.0       1   \n",
            "..         ...           ...         ...     ...           ...   ...     ...   \n",
            "387          4         140.0          86    2790          15.6  82.0       1   \n",
            "388          4          97.0          52    2130          24.6  82.0       2   \n",
            "389          4         135.0          84    2295          11.6  82.0       1   \n",
            "390          4         120.0          79    2625          18.6  82.0       1   \n",
            "391          4         119.0          82    2720          19.4  82.0       1   \n",
            "\n",
            "     mpg_high  \n",
            "0           0  \n",
            "1           0  \n",
            "2           0  \n",
            "3           0  \n",
            "4           0  \n",
            "..        ...  \n",
            "387         1  \n",
            "388         1  \n",
            "389         1  \n",
            "390         1  \n",
            "391         1  \n",
            "\n",
            "[392 rows x 8 columns]\n"
          ]
        }
      ]
    },
    {
      "cell_type": "markdown",
      "source": [
        "6. Data exploration with graphs"
      ],
      "metadata": {
        "id": "KJwI2ZSphkuu"
      }
    },
    {
      "cell_type": "code",
      "source": [
        "import seaborn as sb\n",
        "from sklearn import datasets\n",
        "# this plot of data showed me the range of mpg_high visually instead of having to look through large chunks of data and organize it manually\n",
        "sb.catplot(data=df, x='mpg_high')\n",
        "# this plot visually showed me the correlation between horsepower and weight according to mph_high and whether it was a 0 or 1\n",
        "cat_plot = sb.catplot(data=df, x='horsepower', y='weight', hue='mpg_high')\n",
        "# this boxplot of data showed me how mpg_high and weight were distributed as well as showing if there were any outliers\n",
        "cat_plot = sb.catplot(data=df, x='mpg_high', y='weight', kind = 'box')"
      ],
      "metadata": {
        "colab": {
          "base_uri": "https://localhost:8080/",
          "height": 1000
        },
        "id": "0eKzoh8yAiHy",
        "outputId": "c9e1e692-611a-43c8-c70a-d92175c2ed83"
      },
      "execution_count": 75,
      "outputs": [
        {
          "output_type": "display_data",
          "data": {
            "text/plain": [
              "<Figure size 500x500 with 1 Axes>"
            ],
            "image/png": "[encoded data removed]"
          },
          "metadata": {}
        },
        {
          "output_type": "display_data",
          "data": {
            "text/plain": [
              "<Figure size 579.611x500 with 1 Axes>"
            ],
            "image/png": "[encoded data removed]"
          },
          "metadata": {}
        },
        {
          "output_type": "display_data",
          "data": {
            "text/plain": [
              "<Figure size 500x500 with 1 Axes>"
            ],
            "image/png": "[encoded data removed]"
          },
          "metadata": {}
        }
      ]
    },
    {
      "cell_type": "markdown",
      "source": [
        "7. Train/test split"
      ],
      "metadata": {
        "id": "18cPK1LAZfLC"
      }
    },
    {
      "cell_type": "code",
      "source": [
        "from sklearn.model_selection import train_test_split\n",
        "\n",
        "# ignoring mpg_high in train/test data\n",
        "x = df.iloc[:, 0:5]\n",
        "y = df.iloc[:, 6] \n",
        "\n",
        "x_train, x_test, y_train, y_test = train_test_split(x, y, test_size=0.2, random_state=1234)\n",
        "\n",
        "print('train size: ', x_train.shape)\n",
        "print('test size: ', x_test.shape)"
      ],
      "metadata": {
        "colab": {
          "base_uri": "https://localhost:8080/",
          "height": 0
        },
        "id": "uVbQLyzwZjhh",
        "outputId": "5aed324b-3cf4-46e2-f017-02ef4715a902"
      },
      "execution_count": 62,
      "outputs": [
        {
          "output_type": "stream",
          "name": "stdout",
          "text": [
            "train size:  (313, 5)\n",
            "test size:  (79, 5)\n"
          ]
        }
      ]
    },
    {
      "cell_type": "markdown",
      "source": [
        "8. Logistic Regression"
      ],
      "metadata": {
        "id": "c25WPYxZd6r-"
      }
    },
    {
      "cell_type": "code",
      "source": [
        "from sklearn.linear_model import LogisticRegression\n",
        "from sklearn.metrics import classification_report\n",
        "\n",
        "clf = LogisticRegression()\n",
        "clf.fit(x_train, y_train)\n",
        "print(clf.score(x_train, y_train))\n",
        "pred = clf.predict(x_test)\n",
        "\n",
        "# print classification report\n",
        "print(classification_report(y_test, pred))"
      ],
      "metadata": {
        "colab": {
          "base_uri": "https://localhost:8080/",
          "height": 0
        },
        "id": "D2lFXMeZd8yo",
        "outputId": "3d421ff3-117b-4a32-f1ad-7f5270bb9123"
      },
      "execution_count": 64,
      "outputs": [
        {
          "output_type": "stream",
          "name": "stdout",
          "text": [
            "0.7699680511182109\n",
            "              precision    recall  f1-score   support\n",
            "\n",
            "           1       0.91      0.82      0.86        49\n",
            "           2       0.56      0.42      0.48        12\n",
            "           3       0.58      0.83      0.68        18\n",
            "\n",
            "    accuracy                           0.76        79\n",
            "   macro avg       0.68      0.69      0.67        79\n",
            "weighted avg       0.78      0.76      0.76        79\n",
            "\n"
          ]
        },
        {
          "output_type": "stream",
          "name": "stderr",
          "text": [
            "/usr/local/lib/python3.9/dist-packages/sklearn/linear_model/_logistic.py:458: ConvergenceWarning: lbfgs failed to converge (status=1):\n",
            "STOP: TOTAL NO. of ITERATIONS REACHED LIMIT.\n",
            "\n",
            "Increase the number of iterations (max_iter) or scale the data as shown in:\n",
            "    https://scikit-learn.org/stable/modules/preprocessing.html\n",
            "Please also refer to the documentation for alternative solver options:\n",
            "    https://scikit-learn.org/stable/modules/linear_model.html#logistic-regression\n",
            "  n_iter_i = _check_optimize_result(\n"
          ]
        }
      ]
    },
    {
      "cell_type": "markdown",
      "source": [
        "9. Decision Tree"
      ],
      "metadata": {
        "id": "ilCHYubi__rP"
      }
    },
    {
      "cell_type": "code",
      "source": [
        "from sklearn.tree import DecisionTreeClassifier\n",
        "from sklearn.metrics import classification_report\n",
        "\n",
        "clf = DecisionTreeClassifier()\n",
        "clf.fit(x_train, y_train) # train\n",
        "\n",
        "pred = clf.predict(x_test) # evaluate\n",
        "\n",
        "# print classification report\n",
        "print(classification_report(y_test, pred))"
      ],
      "metadata": {
        "colab": {
          "base_uri": "https://localhost:8080/",
          "height": 0
        },
        "id": "tKB480r6ACUk",
        "outputId": "f93021b4-c034-4d39-9e1a-efa68f1e7206"
      },
      "execution_count": 65,
      "outputs": [
        {
          "output_type": "stream",
          "name": "stdout",
          "text": [
            "              precision    recall  f1-score   support\n",
            "\n",
            "           1       0.89      0.84      0.86        49\n",
            "           2       0.33      0.33      0.33        12\n",
            "           3       0.62      0.72      0.67        18\n",
            "\n",
            "    accuracy                           0.73        79\n",
            "   macro avg       0.61      0.63      0.62        79\n",
            "weighted avg       0.74      0.73      0.74        79\n",
            "\n"
          ]
        }
      ]
    },
    {
      "cell_type": "markdown",
      "source": [
        "10. Neural Networks"
      ],
      "metadata": {
        "id": "x4FQEKO1Bl6q"
      }
    },
    {
      "cell_type": "code",
      "source": [
        "from sklearn import preprocessing\n",
        "from sklearn.neural_network import MLPRegressor\n",
        "from sklearn.metrics import mean_squared_error, r2_score\n",
        "from sklearn.neural_network import MLPClassifier\n",
        "# scaling data\n",
        "scaler = preprocessing.StandardScaler().fit(x_train)\n",
        "x_train = scaler.transform(x_train)\n",
        "x_test = scaler.transform(x_test)\n",
        "\n",
        "# Multi-Layer Perceptron Regressor topology\n",
        "regr = MLPRegressor(hidden_layer_sizes=(6, 3), max_iter=500, random_state=1234)\n",
        "regr.fit(x_train, y_train)\n",
        "\n",
        "pred = regr.predict(x_test)\n",
        "print('MLPRegressor:')\n",
        "print('mse = ', mean_squared_error(y_test, pred))\n",
        "print('correlation = ', r2_score(y_test, pred))\n",
        "\n",
        "# Multi-Layer Perceptron Classifier topology\n",
        "clf = MLPClassifier(solver='lbfgs', hidden_layer_sizes=(5, 2), max_iter=500, random_state=1234)\n",
        "clf.fit(x_train, y_train)\n",
        "\n",
        "pred2 = clf.predict(x_test)\n",
        "print('\\nMLPClassifier:')\n",
        "print('mse = ', mean_squared_error(y_test, pred))\n",
        "print('correlation = ', r2_score(y_test, pred))"
      ],
      "metadata": {
        "colab": {
          "base_uri": "https://localhost:8080/",
          "height": 0
        },
        "id": "uw3rsLy3Bn2C",
        "outputId": "dfa6d82f-2604-486b-8241-486fc2cbdc15"
      },
      "execution_count": 73,
      "outputs": [
        {
          "output_type": "stream",
          "name": "stdout",
          "text": [
            "MLPRegressor:\n",
            "mse =  0.37203280307748404\n",
            "correlation =  0.46402199353495455\n",
            "\n",
            "MLPClassifier:\n",
            "mse =  0.37203280307748404\n",
            "correlation =  0.46402199353495455\n"
          ]
        }
      ]
    },
    {
      "cell_type": "markdown",
      "source": [
        "According to my results, it looks like both topolgies performed the same. I think this is because both topologies were being told to train/test the same set of data. The data was not too large and there was not too much variance going on within the data set which leads me to believe that is the reason why both MLPRegressor and MLPClassifier performed the same. "
      ],
      "metadata": {
        "id": "CxjOk3fmT7uo"
      }
    },
    {
      "cell_type": "markdown",
      "source": [
        "11. Analysis\n",
        "\n",
        "After finishing this assignment, it looks like my algorithms all performed very similar. The decision tree and logistic regression are both at 79 percent accuracy. The precision and recall metrics for logistic regression were just a little bit better than the decision tree algorithm. I think after looking at everything, I think the logistic regression algorithm out performed because the data was most likely more interpretable, especially because it is a linear model. \n",
        "\n",
        "After gaining some experience in python and using sklearn, I think I prefer this over R. This is purely based on preference but I find the syntax to be easier for me and more readable. I think another reason why I find it easier is because it is similar in syntax to other programming language I have more experience with. "
      ],
      "metadata": {
        "id": "VZE_ah33VD8O"
      }
    }
  ]
}